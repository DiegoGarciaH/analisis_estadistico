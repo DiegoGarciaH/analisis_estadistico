{
 "cells": [
  {
   "cell_type": "markdown",
   "id": "a12c53ee-8a9a-455a-840f-10a3c8763bbd",
   "metadata": {},
   "source": [
    "# Tarea 5- Analisis Estadistico"
   ]
  },
  {
   "cell_type": "markdown",
   "id": "73f53b6f-ef66-4477-b41a-22f80101a72a",
   "metadata": {},
   "source": [
    "Elaborar un reporte de un caso aplicado con **al menos 50\n",
    "datos**, con *apoyo de software* (Python como lenguaje de programacion), que contenga:\n",
    "- Variable de estudio \n",
    "- Diseño del muestreo\n",
    "- Tabla de distribución de frecuencia\n",
    "- Gráficos \n",
    "- Medidas de tendencia central, localización y dispersión\n",
    "- Interpretación de resultados\n",
    "\n",
    "> Universidad Politecnica de Pachuca <br/> Ingeneria en Software <br/> Estadistica y probabilidad <br/> Alumno: Brayan Diego Garcia Hernandez"
   ]
  },
  {
   "cell_type": "markdown",
   "id": "e92a6561-8e16-4754-9ffd-1ad586fdbb0e",
   "metadata": {},
   "source": [
    "# Ejercicio:\n",
    "En una ciudad, analizamos el nivel de vida a través de la renta anual\n",
    "familiar. Se recoge información sobre 50 familias. Los datos en millones de pesetas, son los siguientes: "
   ]
  },
  {
   "cell_type": "code",
   "execution_count": 246,
   "id": "af4cf12d-ef0d-4e8f-9bfc-7d01118beabe",
   "metadata": {},
   "outputs": [],
   "source": [
    "# Importaciones de librerias a ocupar\n",
    "import numpy as np # ayuda a los arreglos\n",
    "import pandas as pd # ayuda a la creacion de dataframes(Tablas) y series (Columnas)\n",
    "import math"
   ]
  },
  {
   "cell_type": "code",
   "execution_count": 33,
   "id": "b4b2593c-8368-4132-a5a2-31a387471adc",
   "metadata": {
    "tags": []
   },
   "outputs": [
    {
     "name": "stdout",
     "output_type": "stream",
     "text": [
      "<class 'pandas.core.series.Series'>\n",
      "RangeIndex: 50 entries, 0 to 49\n",
      "Series name: None\n",
      "Non-Null Count  Dtype  \n",
      "--------------  -----  \n",
      "50 non-null     float64\n",
      "dtypes: float64(1)\n",
      "memory usage: 528.0 bytes\n"
     ]
    }
   ],
   "source": [
    "data = [3.2, 1.1, 3.3, 0.2, 2, 1.3, 0.8, 0.4, 3.8, 2.6, 2.3, 3.4, 2.8, 1.7, 1.2, 3.2, 3.2, 2.6, 1.1, 2.4, 2.6, 1.6, 0.9, 2, 1.8, 3.6, 1.3, 2.7, 2.3, 2.3, 1.7, 2.9, 1.2, 2.2, 2, 1.3, 1.8, 0.8, 2.3, 1.4, 0.9, 1.1, 2.1, 1.7, 1.2, 2.3, 1.6, 2.2, 1.7, 2.1 ]\n",
    "serie = pd.Series(data)\n",
    "serie.info()"
   ]
  },
  {
   "cell_type": "code",
   "execution_count": 267,
   "id": "fe933d44-c752-4d36-a322-8ff1ab551729",
   "metadata": {},
   "outputs": [
    {
     "data": {
      "text/plain": [
       "0     3.2\n",
       "1     1.1\n",
       "2     3.3\n",
       "3     0.2\n",
       "4     2.0\n",
       "5     1.3\n",
       "6     0.8\n",
       "7     0.4\n",
       "8     3.8\n",
       "9     2.6\n",
       "10    2.3\n",
       "11    3.4\n",
       "12    2.8\n",
       "13    1.7\n",
       "14    1.2\n",
       "15    3.2\n",
       "16    3.2\n",
       "17    2.6\n",
       "18    1.1\n",
       "19    2.4\n",
       "20    2.6\n",
       "21    1.6\n",
       "22    0.9\n",
       "23    2.0\n",
       "24    1.8\n",
       "25    3.6\n",
       "26    1.3\n",
       "27    2.7\n",
       "28    2.3\n",
       "29    2.3\n",
       "30    1.7\n",
       "31    2.9\n",
       "32    1.2\n",
       "33    2.2\n",
       "34    2.0\n",
       "35    1.3\n",
       "36    1.8\n",
       "37    0.8\n",
       "38    2.3\n",
       "39    1.4\n",
       "40    0.9\n",
       "41    1.1\n",
       "42    2.1\n",
       "43    1.7\n",
       "44    1.2\n",
       "45    2.3\n",
       "46    1.6\n",
       "47    2.2\n",
       "48    1.7\n",
       "49    2.1\n",
       "dtype: float64"
      ]
     },
     "execution_count": 267,
     "metadata": {},
     "output_type": "execute_result"
    }
   ],
   "source": [
    "serie"
   ]
  },
  {
   "cell_type": "markdown",
   "id": "cc686017-1655-4f06-9c8a-125cb45cb055",
   "metadata": {
    "tags": []
   },
   "source": [
    "## Variable de Estudio"
   ]
  },
  {
   "cell_type": "markdown",
   "id": "5fe3c6f7-6a91-4fab-8aed-d9f366f28460",
   "metadata": {},
   "source": [
    "Los datos que se dan a continuación corresponden a los millones de pesetas de cincuenta familias (Recurso obtenido en [Ejercicios resueltos de Estadistica](https://www3.uji.es/~mateu/t1-alumnos.pdf), creditos al autor) donde la variable que se necesita analizar son las pecetas y como tal en ingreso que se tiene en la ciudad, para tener un conocimiento basico de la economia."
   ]
  },
  {
   "cell_type": "markdown",
   "id": "315f94df-8988-43f3-96d4-8fce7f67114f",
   "metadata": {},
   "source": [
    "## Diseño del muestreo"
   ]
  },
  {
   "cell_type": "markdown",
   "id": "95ae89ca-9917-406c-810c-ac851b7e380e",
   "metadata": {},
   "source": [
    "Para determinar la seleccion de las familias se tuvo que seleccionar solamente aquellas que viven en la misma ciudad a la cual se necesita hacer el analisis estadistico. En el recurso donde fue obtenidos los datos *no mencionan el origen de donde fueron obtenidos* y mucho menos si es una muestra seleccionada o una muestra aleatroia\n",
    "![familia](https://static1.abc.es/media/familia/2016/06/19/FAMILIA-kiUC--1190x800@abc.jpg) \n",
    "> Creditos de la persona que subio y es dueña de la imagen"
   ]
  },
  {
   "cell_type": "markdown",
   "id": "3e8bfcd8-c979-42df-aa47-a1eb30890c81",
   "metadata": {},
   "source": [
    "## Tabla de Distribucion de Fecuencias"
   ]
  },
  {
   "cell_type": "code",
   "execution_count": 35,
   "id": "28698294-b204-4e73-acf4-c76e5d11c6e0",
   "metadata": {},
   "outputs": [
    {
     "name": "stdout",
     "output_type": "stream",
     "text": [
      "El dato mayor es 3.8, Mientras que el dato menor es 0.2\n"
     ]
    }
   ],
   "source": [
    "CM = max(serie)\n",
    "cm = min(serie)\n",
    "print(f\"El dato mayor es {CM}, Mientras que el dato menor es {cm}\")"
   ]
  },
  {
   "cell_type": "code",
   "execution_count": 42,
   "id": "45372115-edc4-474c-ade5-d4352755333f",
   "metadata": {},
   "outputs": [],
   "source": [
    "# Redondeamos para que no haga decimales demas\n",
    "def truncate(num, n):\n",
    "    integer = int(num * (10**n))/(10**n)\n",
    "    return float(integer)"
   ]
  },
  {
   "cell_type": "code",
   "execution_count": 41,
   "id": "4a6d08de-a2a1-48fc-821f-10a96432b908",
   "metadata": {},
   "outputs": [
    {
     "data": {
      "text/plain": [
       "3.7"
      ]
     },
     "execution_count": 41,
     "metadata": {},
     "output_type": "execute_result"
    }
   ],
   "source": [
    "## Rango \n",
    "rango = truncate( (CM - cm), 1 ) +.1\n",
    "rango"
   ]
  },
  {
   "cell_type": "code",
   "execution_count": 59,
   "id": "472db984-0bf4-499c-96cb-c47e1a477e82",
   "metadata": {},
   "outputs": [
    {
     "data": {
      "text/plain": [
       "7"
      ]
     },
     "execution_count": 59,
     "metadata": {},
     "output_type": "execute_result"
    }
   ],
   "source": [
    "# Clase \n",
    "_clase = len(serie)\n",
    "clase = round( math.sqrt(_clase))\n",
    "clase"
   ]
  },
  {
   "cell_type": "code",
   "execution_count": 61,
   "id": "8c721bb7-6d16-43b2-a122-55ac27345e0e",
   "metadata": {},
   "outputs": [
    {
     "data": {
      "text/plain": [
       "0.5"
      ]
     },
     "execution_count": 61,
     "metadata": {},
     "output_type": "execute_result"
    }
   ],
   "source": [
    "# Intervalo de clase\n",
    "IC = truncate(rango/clase, 1)\n",
    "IC"
   ]
  },
  {
   "cell_type": "code",
   "execution_count": 104,
   "id": "f75abcbe-229e-4b49-8821-433e8993dfc3",
   "metadata": {
    "tags": []
   },
   "outputs": [
    {
     "name": "stdout",
     "output_type": "stream",
     "text": [
      "frecuencia 1 True     48\n",
      "False     2\n",
      "dtype: int64 \n",
      "frecuencia 2 True     43\n",
      "False     7\n",
      "dtype: int64 \n",
      "frecuencia 3 True     41\n",
      "False     9\n",
      "dtype: int64, frecuencia 4 True     39\n",
      "False    11\n",
      "dtype: int64\n",
      "frecuencia 5 True     39\n",
      "False    11\n",
      "dtype: int64\n",
      " frecuencia 6 True     47\n",
      "False     3\n",
      "dtype: int64\n",
      "frecuencia 7 True     44\n",
      "False     6\n",
      "dtype: int64frecuencia 8 True     49\n",
      "False     1\n",
      "dtype: int64\n"
     ]
    }
   ],
   "source": [
    "# Obtenemos la frecuencia de los datos, se cuentan los valores falsos\n",
    "frec1 =((serie < 0.2) | (serie > 0.6)).value_counts()\n",
    "frec2 =((serie < 0.5) | (serie > 1.1)).value_counts()\n",
    "frec3 =((serie < 1.2) | (serie > 1.6)).value_counts()\n",
    "frec4 =((serie < 1.7) | (serie > 2.1)).value_counts()\n",
    "frec5 =((serie < 2.2) | (serie > 2.6)).value_counts()\n",
    "frec6 =((serie < 2.7) | (serie > 3.1)).value_counts()\n",
    "frec7 =((serie < 3.2) | (serie > 3.6)).value_counts()\n",
    "frec8 =((serie < 3.7) | (serie > 4.1)).value_counts()\n",
    "print(f\"frecuencia 1 {frec1} \\nfrecuencia 2 {frec2} \\nfrecuencia 3 {frec3}, frecuencia 4 {frec4}\\nfrecuencia 5 {frec5}\\n frecuencia 6 {frec6}\\nfrecuencia 7 {frec7}frecuencia 8 {frec8}\")"
   ]
  },
  {
   "cell_type": "markdown",
   "id": "dc11aa7c-63b8-4ca1-9521-0a8678eab356",
   "metadata": {
    "tags": []
   },
   "source": [
    "> Nota:\n",
    "La Tabla de frecuencias fue hecha en un excel (por comodidad mia) y despues fue cagada como un archivo **.csv** el cual nos permite cargarlo en un dataframe para el uso correcto de ello"
   ]
  },
  {
   "cell_type": "code",
   "execution_count": 105,
   "id": "99009af7-e432-4281-9174-7635ca61f9a9",
   "metadata": {},
   "outputs": [
    {
     "data": {
      "text/html": [
       "<div>\n",
       "<style scoped>\n",
       "    .dataframe tbody tr th:only-of-type {\n",
       "        vertical-align: middle;\n",
       "    }\n",
       "\n",
       "    .dataframe tbody tr th {\n",
       "        vertical-align: top;\n",
       "    }\n",
       "\n",
       "    .dataframe thead th {\n",
       "        text-align: right;\n",
       "    }\n",
       "</style>\n",
       "<table border=\"1\" class=\"dataframe\">\n",
       "  <thead>\n",
       "    <tr style=\"text-align: right;\">\n",
       "      <th></th>\n",
       "      <th>Intervalo</th>\n",
       "      <th>Frecuencia</th>\n",
       "      <th>MC</th>\n",
       "      <th>F.A.</th>\n",
       "      <th>F.R.</th>\n",
       "      <th>F.R.A.</th>\n",
       "      <th>F.R.A.P. %</th>\n",
       "      <th>L.I.</th>\n",
       "      <th>L.S.</th>\n",
       "      <th>L.R.C.</th>\n",
       "      <th>L.R.I.</th>\n",
       "      <th>L.R.S.</th>\n",
       "    </tr>\n",
       "  </thead>\n",
       "  <tbody>\n",
       "    <tr>\n",
       "      <th>0</th>\n",
       "      <td>0,2 - 0,6</td>\n",
       "      <td>2</td>\n",
       "      <td>0,4</td>\n",
       "      <td>2</td>\n",
       "      <td>0,04</td>\n",
       "      <td>0,04</td>\n",
       "      <td>4</td>\n",
       "      <td>0,2</td>\n",
       "      <td>0,6</td>\n",
       "      <td>0,15 - 0,65</td>\n",
       "      <td>0,15</td>\n",
       "      <td>0,15</td>\n",
       "    </tr>\n",
       "    <tr>\n",
       "      <th>1</th>\n",
       "      <td>0,7 - 1,1</td>\n",
       "      <td>7</td>\n",
       "      <td>0,9</td>\n",
       "      <td>9</td>\n",
       "      <td>0,14</td>\n",
       "      <td>0,18</td>\n",
       "      <td>18</td>\n",
       "      <td>0,7</td>\n",
       "      <td>1,1</td>\n",
       "      <td>0,65-1,15</td>\n",
       "      <td>0,65</td>\n",
       "      <td>0,65</td>\n",
       "    </tr>\n",
       "    <tr>\n",
       "      <th>2</th>\n",
       "      <td>1,2 - 1,6</td>\n",
       "      <td>9</td>\n",
       "      <td>1,4</td>\n",
       "      <td>18</td>\n",
       "      <td>0,18</td>\n",
       "      <td>0,36</td>\n",
       "      <td>36</td>\n",
       "      <td>1,2</td>\n",
       "      <td>1,6</td>\n",
       "      <td>1,15-1,65</td>\n",
       "      <td>1,15</td>\n",
       "      <td>1,15</td>\n",
       "    </tr>\n",
       "    <tr>\n",
       "      <th>3</th>\n",
       "      <td>1,7 - 2,1</td>\n",
       "      <td>11</td>\n",
       "      <td>1,9</td>\n",
       "      <td>29</td>\n",
       "      <td>0,22</td>\n",
       "      <td>0,58</td>\n",
       "      <td>58</td>\n",
       "      <td>1,7</td>\n",
       "      <td>2,1</td>\n",
       "      <td>1,65-2,15</td>\n",
       "      <td>1,65</td>\n",
       "      <td>1,65</td>\n",
       "    </tr>\n",
       "    <tr>\n",
       "      <th>4</th>\n",
       "      <td>2,2 - 2,6</td>\n",
       "      <td>11</td>\n",
       "      <td>2,4</td>\n",
       "      <td>40</td>\n",
       "      <td>0,22</td>\n",
       "      <td>0,8</td>\n",
       "      <td>80</td>\n",
       "      <td>2,2</td>\n",
       "      <td>2,6</td>\n",
       "      <td>2,15-2,65</td>\n",
       "      <td>2,15</td>\n",
       "      <td>2,15</td>\n",
       "    </tr>\n",
       "    <tr>\n",
       "      <th>5</th>\n",
       "      <td>2,7 - 3,1</td>\n",
       "      <td>3</td>\n",
       "      <td>2,9</td>\n",
       "      <td>43</td>\n",
       "      <td>0,06</td>\n",
       "      <td>0,86</td>\n",
       "      <td>86</td>\n",
       "      <td>2,7</td>\n",
       "      <td>3,1</td>\n",
       "      <td>2,65-3,15</td>\n",
       "      <td>2,65</td>\n",
       "      <td>2,65</td>\n",
       "    </tr>\n",
       "    <tr>\n",
       "      <th>6</th>\n",
       "      <td>3,2 - 3,6</td>\n",
       "      <td>6</td>\n",
       "      <td>3,4</td>\n",
       "      <td>49</td>\n",
       "      <td>0,12</td>\n",
       "      <td>0,98</td>\n",
       "      <td>98</td>\n",
       "      <td>3,2</td>\n",
       "      <td>3,6</td>\n",
       "      <td>3,15-3,65</td>\n",
       "      <td>3,15</td>\n",
       "      <td>3,15</td>\n",
       "    </tr>\n",
       "    <tr>\n",
       "      <th>7</th>\n",
       "      <td>3,7 - 4,1</td>\n",
       "      <td>1</td>\n",
       "      <td>3,9</td>\n",
       "      <td>50</td>\n",
       "      <td>0,02</td>\n",
       "      <td>1</td>\n",
       "      <td>100</td>\n",
       "      <td>3,7</td>\n",
       "      <td>4,1</td>\n",
       "      <td>3,65-4,15</td>\n",
       "      <td>3,65</td>\n",
       "      <td>3,65</td>\n",
       "    </tr>\n",
       "  </tbody>\n",
       "</table>\n",
       "</div>"
      ],
      "text/plain": [
       "   Intervalo  Frecuencia   MC  F.A.  F.R. F.R.A.   F.R.A.P. % L.I. L.S.  \\\n",
       "0  0,2 - 0,6           2  0,4     2  0,04    0,04           4  0,2  0,6   \n",
       "1  0,7 - 1,1           7  0,9     9  0,14    0,18          18  0,7  1,1   \n",
       "2  1,2 - 1,6           9  1,4    18  0,18    0,36          36  1,2  1,6   \n",
       "3  1,7 - 2,1          11  1,9    29  0,22    0,58          58  1,7  2,1   \n",
       "4  2,2 - 2,6          11  2,4    40  0,22     0,8          80  2,2  2,6   \n",
       "5  2,7 - 3,1           3  2,9    43  0,06    0,86          86  2,7  3,1   \n",
       "6  3,2 - 3,6           6  3,4    49  0,12    0,98          98  3,2  3,6   \n",
       "7  3,7 - 4,1           1  3,9    50  0,02       1         100  3,7  4,1   \n",
       "\n",
       "        L.R.C. L.R.I. L.R.S.  \n",
       "0  0,15 - 0,65   0,15   0,15  \n",
       "1    0,65-1,15   0,65   0,65  \n",
       "2    1,15-1,65   1,15   1,15  \n",
       "3    1,65-2,15   1,65   1,65  \n",
       "4    2,15-2,65   2,15   2,15  \n",
       "5    2,65-3,15   2,65   2,65  \n",
       "6    3,15-3,65   3,15   3,15  \n",
       "7    3,65-4,15   3,65   3,65  "
      ]
     },
     "execution_count": 105,
     "metadata": {},
     "output_type": "execute_result"
    }
   ],
   "source": [
    "df = pd.read_csv(\"./tabla_de_frecuencias.csv\", delimiter=\";\")\n",
    "df"
   ]
  },
  {
   "cell_type": "markdown",
   "id": "6db6f1cd-7f1e-416f-8d52-fca25ce132e0",
   "metadata": {},
   "source": [
    "## Graficos"
   ]
  },
  {
   "cell_type": "code",
   "execution_count": 106,
   "id": "3bb52def-1a8a-418e-bd2b-f7528f50f611",
   "metadata": {
    "collapsed": true,
    "jupyter": {
     "outputs_hidden": true
    },
    "tags": []
   },
   "outputs": [
    {
     "name": "stdout",
     "output_type": "stream",
     "text": [
      "Requirement already satisfied: seaborn in c:\\users\\braya\\appdata\\roaming\\jupyterlab-desktop\\jlab_server\\lib\\site-packages (0.11.2)\n",
      "Collecting altair\n",
      "  Downloading altair-4.2.0-py3-none-any.whl (812 kB)\n",
      "     -------------------------------------- 812.8/812.8 KB 1.8 MB/s eta 0:00:00\n",
      "Requirement already satisfied: pandas>=0.23 in c:\\users\\braya\\appdata\\roaming\\jupyterlab-desktop\\jlab_server\\lib\\site-packages (from seaborn) (1.4.2)\n",
      "Requirement already satisfied: scipy>=1.0 in c:\\users\\braya\\appdata\\roaming\\jupyterlab-desktop\\jlab_server\\lib\\site-packages (from seaborn) (1.8.0)\n",
      "Requirement already satisfied: matplotlib>=2.2 in c:\\users\\braya\\appdata\\roaming\\jupyterlab-desktop\\jlab_server\\lib\\site-packages (from seaborn) (3.5.1)\n",
      "Requirement already satisfied: numpy>=1.15 in c:\\users\\braya\\appdata\\roaming\\jupyterlab-desktop\\jlab_server\\lib\\site-packages (from seaborn) (1.22.3)\n",
      "Collecting toolz\n",
      "  Downloading toolz-0.11.2-py3-none-any.whl (55 kB)\n",
      "     ---------------------------------------- 55.8/55.8 KB 3.0 MB/s eta 0:00:00\n",
      "Requirement already satisfied: entrypoints in c:\\users\\braya\\appdata\\roaming\\jupyterlab-desktop\\jlab_server\\lib\\site-packages (from altair) (0.4)\n",
      "Requirement already satisfied: jinja2 in c:\\users\\braya\\appdata\\roaming\\jupyterlab-desktop\\jlab_server\\lib\\site-packages (from altair) (3.1.1)\n",
      "Requirement already satisfied: jsonschema>=3.0 in c:\\users\\braya\\appdata\\roaming\\jupyterlab-desktop\\jlab_server\\lib\\site-packages (from altair) (4.4.0)\n",
      "Requirement already satisfied: importlib-resources>=1.4.0 in c:\\users\\braya\\appdata\\roaming\\jupyterlab-desktop\\jlab_server\\lib\\site-packages (from jsonschema>=3.0->altair) (5.7.1)\n",
      "Requirement already satisfied: pyrsistent!=0.17.0,!=0.17.1,!=0.17.2,>=0.14.0 in c:\\users\\braya\\appdata\\roaming\\jupyterlab-desktop\\jlab_server\\lib\\site-packages (from jsonschema>=3.0->altair) (0.18.1)\n",
      "Requirement already satisfied: attrs>=17.4.0 in c:\\users\\braya\\appdata\\roaming\\jupyterlab-desktop\\jlab_server\\lib\\site-packages (from jsonschema>=3.0->altair) (21.4.0)\n",
      "Requirement already satisfied: packaging>=20.0 in c:\\users\\braya\\appdata\\roaming\\jupyterlab-desktop\\jlab_server\\lib\\site-packages (from matplotlib>=2.2->seaborn) (21.3)\n",
      "Requirement already satisfied: pyparsing>=2.2.1 in c:\\users\\braya\\appdata\\roaming\\jupyterlab-desktop\\jlab_server\\lib\\site-packages (from matplotlib>=2.2->seaborn) (3.0.8)\n",
      "Requirement already satisfied: cycler>=0.10 in c:\\users\\braya\\appdata\\roaming\\jupyterlab-desktop\\jlab_server\\lib\\site-packages (from matplotlib>=2.2->seaborn) (0.11.0)\n",
      "Requirement already satisfied: pillow>=6.2.0 in c:\\users\\braya\\appdata\\roaming\\jupyterlab-desktop\\jlab_server\\lib\\site-packages (from matplotlib>=2.2->seaborn) (9.1.0)\n",
      "Requirement already satisfied: kiwisolver>=1.0.1 in c:\\users\\braya\\appdata\\roaming\\jupyterlab-desktop\\jlab_server\\lib\\site-packages (from matplotlib>=2.2->seaborn) (1.4.2)\n",
      "Requirement already satisfied: python-dateutil>=2.7 in c:\\users\\braya\\appdata\\roaming\\jupyterlab-desktop\\jlab_server\\lib\\site-packages (from matplotlib>=2.2->seaborn) (2.8.2)\n",
      "Requirement already satisfied: fonttools>=4.22.0 in c:\\users\\braya\\appdata\\roaming\\jupyterlab-desktop\\jlab_server\\lib\\site-packages (from matplotlib>=2.2->seaborn) (4.33.0)\n",
      "Requirement already satisfied: pytz>=2020.1 in c:\\users\\braya\\appdata\\roaming\\jupyterlab-desktop\\jlab_server\\lib\\site-packages (from pandas>=0.23->seaborn) (2022.1)\n",
      "Requirement already satisfied: MarkupSafe>=2.0 in c:\\users\\braya\\appdata\\roaming\\jupyterlab-desktop\\jlab_server\\lib\\site-packages (from jinja2->altair) (2.1.1)\n",
      "Requirement already satisfied: zipp>=3.1.0 in c:\\users\\braya\\appdata\\roaming\\jupyterlab-desktop\\jlab_server\\lib\\site-packages (from importlib-resources>=1.4.0->jsonschema>=3.0->altair) (3.8.0)\n",
      "Requirement already satisfied: six>=1.5 in c:\\users\\braya\\appdata\\roaming\\jupyterlab-desktop\\jlab_server\\lib\\site-packages (from python-dateutil>=2.7->matplotlib>=2.2->seaborn) (1.16.0)\n",
      "Installing collected packages: toolz, altair\n",
      "Successfully installed altair-4.2.0 toolz-0.11.2\n"
     ]
    }
   ],
   "source": [
    "!pip install seaborn altair "
   ]
  },
  {
   "cell_type": "markdown",
   "id": "555d8867-506e-4655-8bc7-1112047c03e0",
   "metadata": {},
   "source": [
    "> Nota: Instalamos mas librerias"
   ]
  },
  {
   "cell_type": "code",
   "execution_count": 119,
   "id": "3b50e09c-9ed2-451a-997e-3a905b47b9d9",
   "metadata": {},
   "outputs": [],
   "source": [
    "import seaborn as sns\n",
    "import altair as alt"
   ]
  },
  {
   "cell_type": "code",
   "execution_count": 191,
   "id": "38ea5bba-ee49-4d54-8611-e47f40a6eec4",
   "metadata": {},
   "outputs": [
    {
     "data": {
      "text/html": [
       "\n",
       "<div id=\"altair-viz-3e7b06aa1b52413e8e21fdb197050480\"></div>\n",
       "<script type=\"text/javascript\">\n",
       "  var VEGA_DEBUG = (typeof VEGA_DEBUG == \"undefined\") ? {} : VEGA_DEBUG;\n",
       "  (function(spec, embedOpt){\n",
       "    let outputDiv = document.currentScript.previousElementSibling;\n",
       "    if (outputDiv.id !== \"altair-viz-3e7b06aa1b52413e8e21fdb197050480\") {\n",
       "      outputDiv = document.getElementById(\"altair-viz-3e7b06aa1b52413e8e21fdb197050480\");\n",
       "    }\n",
       "    const paths = {\n",
       "      \"vega\": \"https://cdn.jsdelivr.net/npm//vega@5?noext\",\n",
       "      \"vega-lib\": \"https://cdn.jsdelivr.net/npm//vega-lib?noext\",\n",
       "      \"vega-lite\": \"https://cdn.jsdelivr.net/npm//vega-lite@4.17.0?noext\",\n",
       "      \"vega-embed\": \"https://cdn.jsdelivr.net/npm//vega-embed@6?noext\",\n",
       "    };\n",
       "\n",
       "    function maybeLoadScript(lib, version) {\n",
       "      var key = `${lib.replace(\"-\", \"\")}_version`;\n",
       "      return (VEGA_DEBUG[key] == version) ?\n",
       "        Promise.resolve(paths[lib]) :\n",
       "        new Promise(function(resolve, reject) {\n",
       "          var s = document.createElement('script');\n",
       "          document.getElementsByTagName(\"head\")[0].appendChild(s);\n",
       "          s.async = true;\n",
       "          s.onload = () => {\n",
       "            VEGA_DEBUG[key] = version;\n",
       "            return resolve(paths[lib]);\n",
       "          };\n",
       "          s.onerror = () => reject(`Error loading script: ${paths[lib]}`);\n",
       "          s.src = paths[lib];\n",
       "        });\n",
       "    }\n",
       "\n",
       "    function showError(err) {\n",
       "      outputDiv.innerHTML = `<div class=\"error\" style=\"color:red;\">${err}</div>`;\n",
       "      throw err;\n",
       "    }\n",
       "\n",
       "    function displayChart(vegaEmbed) {\n",
       "      vegaEmbed(outputDiv, spec, embedOpt)\n",
       "        .catch(err => showError(`Javascript Error: ${err.message}<br>This usually means there's a typo in your chart specification. See the javascript console for the full traceback.`));\n",
       "    }\n",
       "\n",
       "    if(typeof define === \"function\" && define.amd) {\n",
       "      requirejs.config({paths});\n",
       "      require([\"vega-embed\"], displayChart, err => showError(`Error loading script: ${err.message}`));\n",
       "    } else {\n",
       "      maybeLoadScript(\"vega\", \"5\")\n",
       "        .then(() => maybeLoadScript(\"vega-lite\", \"4.17.0\"))\n",
       "        .then(() => maybeLoadScript(\"vega-embed\", \"6\"))\n",
       "        .catch(showError)\n",
       "        .then(() => displayChart(vegaEmbed));\n",
       "    }\n",
       "  })({\"config\": {\"view\": {\"continuousWidth\": 400, \"continuousHeight\": 300}}, \"data\": {\"name\": \"data-787ef48d20fb49ecb20c6b93b1aa3919\"}, \"mark\": \"bar\", \"encoding\": {\"x\": {\"field\": \"Frecuencia\", \"title\": \"Familias\", \"type\": \"quantitative\"}, \"y\": {\"field\": \"Intervalo\", \"title\": \"Millones de Pecetas\", \"type\": \"nominal\"}}, \"title\": \"Ingreso de millones de Pecetas en Familia de una Ciudad\", \"width\": 600, \"$schema\": \"https://vega.github.io/schema/vega-lite/v4.17.0.json\", \"datasets\": {\"data-787ef48d20fb49ecb20c6b93b1aa3919\": [{\"Intervalo\": \"0,2 - 0,6\", \"Frecuencia\": 2, \"MC\": \"0,4\", \"F.A.\": 2, \"F.R.\": \"0,04\", \"F.R.A. \": \"0,04\", \"F.R.A.P. %\": 4, \"L.I.\": \"0,2\", \"L.S.\": \"0,6\", \"L.R.C.\": \"0,15 - 0,65\", \"L.R.I.\": \"0,15\", \"L.R.S.\": \"0,15\"}, {\"Intervalo\": \"0,7 - 1,1\", \"Frecuencia\": 7, \"MC\": \"0,9\", \"F.A.\": 9, \"F.R.\": \"0,14\", \"F.R.A. \": \"0,18\", \"F.R.A.P. %\": 18, \"L.I.\": \"0,7\", \"L.S.\": \"1,1\", \"L.R.C.\": \"0,65-1,15\", \"L.R.I.\": \"0,65\", \"L.R.S.\": \"0,65\"}, {\"Intervalo\": \"1,2 - 1,6\", \"Frecuencia\": 9, \"MC\": \"1,4\", \"F.A.\": 18, \"F.R.\": \"0,18\", \"F.R.A. \": \"0,36\", \"F.R.A.P. %\": 36, \"L.I.\": \"1,2\", \"L.S.\": \"1,6\", \"L.R.C.\": \"1,15-1,65\", \"L.R.I.\": \"1,15\", \"L.R.S.\": \"1,15\"}, {\"Intervalo\": \"1,7 - 2,1\", \"Frecuencia\": 11, \"MC\": \"1,9\", \"F.A.\": 29, \"F.R.\": \"0,22\", \"F.R.A. \": \"0,58\", \"F.R.A.P. %\": 58, \"L.I.\": \"1,7\", \"L.S.\": \"2,1\", \"L.R.C.\": \"1,65-2,15\", \"L.R.I.\": \"1,65\", \"L.R.S.\": \"1,65\"}, {\"Intervalo\": \"2,2 - 2,6\", \"Frecuencia\": 11, \"MC\": \"2,4\", \"F.A.\": 40, \"F.R.\": \"0,22\", \"F.R.A. \": \"0,8\", \"F.R.A.P. %\": 80, \"L.I.\": \"2,2\", \"L.S.\": \"2,6\", \"L.R.C.\": \"2,15-2,65\", \"L.R.I.\": \"2,15\", \"L.R.S.\": \"2,15\"}, {\"Intervalo\": \"2,7 - 3,1\", \"Frecuencia\": 3, \"MC\": \"2,9\", \"F.A.\": 43, \"F.R.\": \"0,06\", \"F.R.A. \": \"0,86\", \"F.R.A.P. %\": 86, \"L.I.\": \"2,7\", \"L.S.\": \"3,1\", \"L.R.C.\": \"2,65-3,15\", \"L.R.I.\": \"2,65\", \"L.R.S.\": \"2,65\"}, {\"Intervalo\": \"3,2 - 3,6\", \"Frecuencia\": 6, \"MC\": \"3,4\", \"F.A.\": 49, \"F.R.\": \"0,12\", \"F.R.A. \": \"0,98\", \"F.R.A.P. %\": 98, \"L.I.\": \"3,2\", \"L.S.\": \"3,6\", \"L.R.C.\": \"3,15-3,65\", \"L.R.I.\": \"3,15\", \"L.R.S.\": \"3,15\"}, {\"Intervalo\": \"3,7 - 4,1\", \"Frecuencia\": 1, \"MC\": \"3,9\", \"F.A.\": 50, \"F.R.\": \"0,02\", \"F.R.A. \": \"1\", \"F.R.A.P. %\": 100, \"L.I.\": \"3,7\", \"L.S.\": \"4,1\", \"L.R.C.\": \"3,65-4,15\", \"L.R.I.\": \"3,65\", \"L.R.S.\": \"3,65\"}]}}, {\"mode\": \"vega-lite\"});\n",
       "</script>"
      ],
      "text/plain": [
       "alt.Chart(...)"
      ]
     },
     "execution_count": 191,
     "metadata": {},
     "output_type": "execute_result"
    }
   ],
   "source": [
    "## Grafico de Barras:\n",
    "alt.Chart(df).mark_bar().encode(\n",
    "    x= alt.X(\"Frecuencia\",title = \"Familias\"),\n",
    "    y= alt.Y(\"Intervalo\", title = \"Millones de Pecetas\")\n",
    "). properties(\n",
    "    title = \"Ingreso de millones de Pecetas en Familia de una Ciudad\",\n",
    "    width = 600\n",
    ")"
   ]
  },
  {
   "cell_type": "code",
   "execution_count": 192,
   "id": "f922c2f7-9b5f-43ab-8c16-6d8b06b1d7ab",
   "metadata": {},
   "outputs": [
    {
     "data": {
      "image/png": "[encoded data removed]",
      "text/plain": [
       "<Figure size 432x288 with 1 Axes>"
      ]
     },
     "metadata": {},
     "output_type": "display_data"
    }
   ],
   "source": [
    "# Grafico Circular\n",
    "\n",
    "import matplotlib.pyplot as plt\n",
    "import seaborn as sns\n",
    "label = \"Millones de Pecetas en Familias de una Ciudad\"\n",
    "colors = sns.color_palette('bright')\n",
    "plt.pie(df[\"Frecuencia\"], labels=df[\"Intervalo\"],colors = colors, autopct = '%0.0f%%')\n",
    "plt.title(label, fontdict=None, loc='center', pad=None)\n",
    "\n",
    "plt.show()"
   ]
  },
  {
   "cell_type": "code",
   "execution_count": 245,
   "id": "7ec08e13-8a49-4aff-bec2-d5847e30ad91",
   "metadata": {},
   "outputs": [
    {
     "data": {
      "image/png": "[encoded data removed]",
      "text/plain": [
       "<Figure size 360x360 with 1 Axes>"
      ]
     },
     "metadata": {
      "needs_background": "light"
     },
     "output_type": "display_data"
    }
   ],
   "source": [
    "# Grafico de Lineas\n",
    "sns.relplot(x = df[\"Intervalo\"],\n",
    "            y = df[\"F.A.\"],\n",
    "            data = df,\n",
    "            kind = \"line\",\n",
    "           ).set(\n",
    "            xlabel = \"Millones de Pecetas\",\n",
    "            ylabel = \"Familias\",\n",
    "            title = \"Millones de Pecetas de las familias de una ciudad\"\n",
    ").set_xticklabels(rotation=50)\n",
    "plt.show()"
   ]
  },
  {
   "cell_type": "markdown",
   "id": "5f031341-847a-4172-89ed-3b6800d400f7",
   "metadata": {},
   "source": [
    "## Medidas de tendencia central, localización y dispersión"
   ]
  },
  {
   "cell_type": "markdown",
   "id": "fe64cb32-6f61-46c0-84f8-0217933f93c8",
   "metadata": {},
   "source": [
    "### Media, Cuartiles y Desviacion Estandar\n",
    "Para obtener la media podemos ingresar a traves de un metodo que pandas nos brinda, ademas de que podemos saber los **Cuartiles y la desviacion estandar**"
   ]
  },
  {
   "cell_type": "code",
   "execution_count": 248,
   "id": "88b5de06-ba57-4339-8c3d-0a81f94f3250",
   "metadata": {},
   "outputs": [
    {
     "data": {
      "text/plain": [
       "count    50.000000\n",
       "mean      1.964000\n",
       "std       0.850872\n",
       "min       0.200000\n",
       "25%       1.300000\n",
       "50%       2.000000\n",
       "75%       2.550000\n",
       "max       3.800000\n",
       "dtype: float64"
      ]
     },
     "execution_count": 248,
     "metadata": {},
     "output_type": "execute_result"
    }
   ],
   "source": [
    "serie.describe()"
   ]
  },
  {
   "cell_type": "markdown",
   "id": "4bda8c32-a507-4ead-a0b7-7ff9ba360e8b",
   "metadata": {},
   "source": [
    "> Media: **1.9640** \n",
    "\n",
    ">  Desviacion Estandar: **0.850872**\n",
    " \n",
    "> Cuartil 1: **1.3**\n",
    "\n",
    "> Cuartil 2: **2**\n",
    "\n",
    "> Cuartil 3: **3.8**\n",
    "\n",
    "\n",
    "Ademas podemos Ver algunos datos de la tabla (dataframe)"
   ]
  },
  {
   "cell_type": "code",
   "execution_count": 249,
   "id": "0ff47104-1d53-443e-bca4-c02f9ce6c87f",
   "metadata": {},
   "outputs": [
    {
     "data": {
      "text/html": [
       "<div>\n",
       "<style scoped>\n",
       "    .dataframe tbody tr th:only-of-type {\n",
       "        vertical-align: middle;\n",
       "    }\n",
       "\n",
       "    .dataframe tbody tr th {\n",
       "        vertical-align: top;\n",
       "    }\n",
       "\n",
       "    .dataframe thead th {\n",
       "        text-align: right;\n",
       "    }\n",
       "</style>\n",
       "<table border=\"1\" class=\"dataframe\">\n",
       "  <thead>\n",
       "    <tr style=\"text-align: right;\">\n",
       "      <th></th>\n",
       "      <th>Frecuencia</th>\n",
       "      <th>F.A.</th>\n",
       "      <th>F.R.A.P. %</th>\n",
       "    </tr>\n",
       "  </thead>\n",
       "  <tbody>\n",
       "    <tr>\n",
       "      <th>count</th>\n",
       "      <td>8.000000</td>\n",
       "      <td>8.000000</td>\n",
       "      <td>8.000000</td>\n",
       "    </tr>\n",
       "    <tr>\n",
       "      <th>mean</th>\n",
       "      <td>6.250000</td>\n",
       "      <td>30.000000</td>\n",
       "      <td>60.000000</td>\n",
       "    </tr>\n",
       "    <tr>\n",
       "      <th>std</th>\n",
       "      <td>3.955105</td>\n",
       "      <td>18.516402</td>\n",
       "      <td>37.032804</td>\n",
       "    </tr>\n",
       "    <tr>\n",
       "      <th>min</th>\n",
       "      <td>1.000000</td>\n",
       "      <td>2.000000</td>\n",
       "      <td>4.000000</td>\n",
       "    </tr>\n",
       "    <tr>\n",
       "      <th>25%</th>\n",
       "      <td>2.750000</td>\n",
       "      <td>15.750000</td>\n",
       "      <td>31.500000</td>\n",
       "    </tr>\n",
       "    <tr>\n",
       "      <th>50%</th>\n",
       "      <td>6.500000</td>\n",
       "      <td>34.500000</td>\n",
       "      <td>69.000000</td>\n",
       "    </tr>\n",
       "    <tr>\n",
       "      <th>75%</th>\n",
       "      <td>9.500000</td>\n",
       "      <td>44.500000</td>\n",
       "      <td>89.000000</td>\n",
       "    </tr>\n",
       "    <tr>\n",
       "      <th>max</th>\n",
       "      <td>11.000000</td>\n",
       "      <td>50.000000</td>\n",
       "      <td>100.000000</td>\n",
       "    </tr>\n",
       "  </tbody>\n",
       "</table>\n",
       "</div>"
      ],
      "text/plain": [
       "       Frecuencia       F.A.  F.R.A.P. %\n",
       "count    8.000000   8.000000    8.000000\n",
       "mean     6.250000  30.000000   60.000000\n",
       "std      3.955105  18.516402   37.032804\n",
       "min      1.000000   2.000000    4.000000\n",
       "25%      2.750000  15.750000   31.500000\n",
       "50%      6.500000  34.500000   69.000000\n",
       "75%      9.500000  44.500000   89.000000\n",
       "max     11.000000  50.000000  100.000000"
      ]
     },
     "execution_count": 249,
     "metadata": {},
     "output_type": "execute_result"
    }
   ],
   "source": [
    "df.describe()"
   ]
  },
  {
   "cell_type": "markdown",
   "id": "a3502b45-b89b-44b8-a8f8-dbf6a30e4eba",
   "metadata": {},
   "source": [
    "### Moda"
   ]
  },
  {
   "cell_type": "code",
   "execution_count": 258,
   "id": "052b8344-013d-4738-88e7-62f356350887",
   "metadata": {},
   "outputs": [
    {
     "data": {
      "text/plain": [
       "0    2.3\n",
       "dtype: float64"
      ]
     },
     "execution_count": 258,
     "metadata": {},
     "output_type": "execute_result"
    }
   ],
   "source": [
    "serie.mode()"
   ]
  },
  {
   "cell_type": "markdown",
   "id": "69f34d3c-0ae8-41c7-aa6e-b0a4e8193aa7",
   "metadata": {},
   "source": [
    "> Moda **2.3**"
   ]
  },
  {
   "cell_type": "markdown",
   "id": "b0d4247f-a22a-4b66-90e6-e0c498237bfa",
   "metadata": {},
   "source": [
    "### Mediana"
   ]
  },
  {
   "cell_type": "code",
   "execution_count": 257,
   "id": "86533790-7ab2-473d-aed7-d1d32e672d2a",
   "metadata": {},
   "outputs": [
    {
     "data": {
      "text/plain": [
       "2.0"
      ]
     },
     "execution_count": 257,
     "metadata": {},
     "output_type": "execute_result"
    }
   ],
   "source": [
    "serie.median()"
   ]
  },
  {
   "cell_type": "markdown",
   "id": "61d54967-8e46-41b2-90d7-35bb0e3bd333",
   "metadata": {},
   "source": [
    "> Mediana **2.0**"
   ]
  },
  {
   "cell_type": "markdown",
   "id": "f4ffae1d-7ccf-4fea-adaa-7200afed5966",
   "metadata": {},
   "source": [
    "### Deciles"
   ]
  },
  {
   "cell_type": "code",
   "execution_count": 272,
   "id": "130df565-cd69-458e-bb97-edd1962bb0a2",
   "metadata": {},
   "outputs": [
    {
     "data": {
      "text/plain": [
       "0    0.90\n",
       "1    1.20\n",
       "2    1.37\n",
       "3    1.70\n",
       "4    2.00\n",
       "5    2.20\n",
       "6    2.30\n",
       "7    2.62\n",
       "8    3.20\n",
       "dtype: float64"
      ]
     },
     "execution_count": 272,
     "metadata": {},
     "output_type": "execute_result"
    }
   ],
   "source": [
    "decil =pd.Series(np.quantile(serie, q = np.arange(0.1, 1, 0.1)))\n",
    "decil"
   ]
  },
  {
   "cell_type": "markdown",
   "id": "548b1234-2dd2-4ce5-9f69-9081e2361090",
   "metadata": {},
   "source": [
    "### Percentil"
   ]
  },
  {
   "cell_type": "code",
   "execution_count": 278,
   "id": "04d9c6ff-7b47-46ab-82e1-fd073ae6ed28",
   "metadata": {},
   "outputs": [
    {
     "data": {
      "text/plain": [
       "0     0.298\n",
       "1     0.396\n",
       "2     0.588\n",
       "3     0.784\n",
       "4     0.800\n",
       "5     0.800\n",
       "6     0.843\n",
       "7     0.892\n",
       "8     0.900\n",
       "9     0.900\n",
       "10    0.978\n",
       "11    1.076\n",
       "12    1.100\n",
       "13    1.100\n",
       "14    1.100\n",
       "15    1.100\n",
       "16    1.133\n",
       "17    1.182\n",
       "18    1.200\n",
       "19    1.200\n",
       "20    1.200\n",
       "21    1.200\n",
       "22    1.227\n",
       "23    1.276\n",
       "24    1.300\n",
       "25    1.300\n",
       "26    1.300\n",
       "27    1.300\n",
       "28    1.321\n",
       "29    1.370\n",
       "30    1.438\n",
       "31    1.536\n",
       "32    1.600\n",
       "33    1.600\n",
       "34    1.615\n",
       "35    1.664\n",
       "36    1.700\n",
       "37    1.700\n",
       "38    1.700\n",
       "39    1.700\n",
       "40    1.700\n",
       "41    1.700\n",
       "42    1.707\n",
       "43    1.756\n",
       "44    1.800\n",
       "45    1.800\n",
       "46    1.806\n",
       "47    1.904\n",
       "48    2.000\n",
       "49    2.000\n",
       "dtype: float64"
      ]
     },
     "execution_count": 278,
     "metadata": {},
     "output_type": "execute_result"
    }
   ],
   "source": [
    "percentil = pd.Series(np.quantile(serie, q = np.arange(0.01, 1, 0.01)))\n",
    "percentil.head(50)"
   ]
  },
  {
   "cell_type": "code",
   "execution_count": 279,
   "id": "e2dbe76f-1393-4136-96c2-2f38a3a7cda7",
   "metadata": {},
   "outputs": [
    {
     "data": {
      "text/plain": [
       "49    2.000\n",
       "50    2.000\n",
       "51    2.000\n",
       "52    2.000\n",
       "53    2.046\n",
       "54    2.095\n",
       "55    2.100\n",
       "56    2.100\n",
       "57    2.142\n",
       "58    2.191\n",
       "59    2.200\n",
       "60    2.200\n",
       "61    2.238\n",
       "62    2.287\n",
       "63    2.300\n",
       "64    2.300\n",
       "65    2.300\n",
       "66    2.300\n",
       "67    2.300\n",
       "68    2.300\n",
       "69    2.300\n",
       "70    2.300\n",
       "71    2.328\n",
       "72    2.377\n",
       "73    2.452\n",
       "74    2.550\n",
       "75    2.600\n",
       "76    2.600\n",
       "77    2.600\n",
       "78    2.600\n",
       "79    2.620\n",
       "80    2.669\n",
       "81    2.718\n",
       "82    2.767\n",
       "83    2.816\n",
       "84    2.865\n",
       "85    2.942\n",
       "86    3.089\n",
       "87    3.200\n",
       "88    3.200\n",
       "89    3.200\n",
       "90    3.200\n",
       "91    3.208\n",
       "92    3.257\n",
       "93    3.306\n",
       "94    3.355\n",
       "95    3.408\n",
       "96    3.506\n",
       "97    3.604\n",
       "98    3.702\n",
       "dtype: float64"
      ]
     },
     "execution_count": 279,
     "metadata": {},
     "output_type": "execute_result"
    }
   ],
   "source": [
    "percentil.tail(50)"
   ]
  },
  {
   "cell_type": "markdown",
   "id": "6ce688f6-506e-49e7-9891-b057d050c06b",
   "metadata": {},
   "source": [
    "## Medidas de dispercion"
   ]
  },
  {
   "cell_type": "markdown",
   "id": "b75c4958-7d86-4ca6-bf7b-ad3dda3271aa",
   "metadata": {},
   "source": [
    "### Varianza\n",
    "\n",
    "Para encontrar la varianza estadistica podemos utilizar la serie de datos en una lista y esta se encarga de realizar los calculos para la varianza, se obtiene a traves de la funcion de var que nos proporciona numpy (Una libreria para matrices)"
   ]
  },
  {
   "cell_type": "code",
   "execution_count": 289,
   "id": "853c2c30-4155-4d63-8753-630eb726ce8e",
   "metadata": {},
   "outputs": [
    {
     "data": {
      "text/plain": [
       "0.709504"
      ]
     },
     "execution_count": 289,
     "metadata": {},
     "output_type": "execute_result"
    }
   ],
   "source": [
    "from numpy import var\n",
    "var(serie)"
   ]
  },
  {
   "cell_type": "markdown",
   "id": "dfc985eb-d136-4b10-acbd-0062d7626d13",
   "metadata": {},
   "source": [
    "> Varianza: **0.709504**"
   ]
  },
  {
   "cell_type": "markdown",
   "id": "7a735127-393b-48fa-84e7-0682d5d01b63",
   "metadata": {},
   "source": [
    "### Desviacion Estandar"
   ]
  },
  {
   "cell_type": "markdown",
   "id": "c9dcfb04-f777-47cc-9a52-3e00b07d8caf",
   "metadata": {},
   "source": [
    "La desviacion estandar lo podemos obtener a traves de la funcion de std, nos la provee pandas."
   ]
  },
  {
   "cell_type": "code",
   "execution_count": 290,
   "id": "367f94db-55c8-4eca-ad82-810326f7f60b",
   "metadata": {},
   "outputs": [
    {
     "data": {
      "text/plain": [
       "0.8508723015055712"
      ]
     },
     "execution_count": 290,
     "metadata": {},
     "output_type": "execute_result"
    }
   ],
   "source": [
    "serie.std()"
   ]
  },
  {
   "cell_type": "markdown",
   "id": "96844831-df12-4bb7-9994-6755ecb78e4d",
   "metadata": {},
   "source": [
    "> Desviacion Estandar: **0.850872**"
   ]
  },
  {
   "cell_type": "markdown",
   "id": "1a27d4f2-108a-44b5-adfb-d71c476cbc66",
   "metadata": {},
   "source": [
    "### Coeficiente de Variacion"
   ]
  },
  {
   "cell_type": "code",
   "execution_count": 305,
   "id": "4577e7e6-87ec-4641-aadc-d7139337a391",
   "metadata": {
    "tags": []
   },
   "outputs": [
    {
     "name": "stdout",
     "output_type": "stream",
     "text": [
      "Requirement already satisfied: scipy in c:\\users\\braya\\appdata\\roaming\\jupyterlab-desktop\\jlab_server\\lib\\site-packages (1.8.0)\n",
      "Requirement already satisfied: numpy<1.25.0,>=1.17.3 in c:\\users\\braya\\appdata\\roaming\\jupyterlab-desktop\\jlab_server\\lib\\site-packages (from scipy) (1.22.3)\n"
     ]
    }
   ],
   "source": [
    "!pip install scipy"
   ]
  },
  {
   "cell_type": "code",
   "execution_count": 306,
   "id": "fe8a2a23-c583-4b59-9faa-55bd480d6e00",
   "metadata": {},
   "outputs": [
    {
     "data": {
      "text/plain": [
       "0.42888014462614654"
      ]
     },
     "execution_count": 306,
     "metadata": {},
     "output_type": "execute_result"
    }
   ],
   "source": [
    "import scipy\n",
    "coeficiente = scipy.stats.variation(serie, axis = None)\n",
    "coeficiente"
   ]
  },
  {
   "cell_type": "markdown",
   "id": "eb672bd8-5793-4ae2-a1a2-6fdb9a1233fb",
   "metadata": {},
   "source": [
    "> Coeficiente de Variacion: **0.428880**"
   ]
  },
  {
   "cell_type": "markdown",
   "id": "e12cb0f4-c49e-4599-99f8-29f3e2624bd0",
   "metadata": {},
   "source": [
    "## Interpretacion de Resultados:\n",
    "\n",
    "Se obtuvo que la media de los millones de pecetas es 1.9640, mientras que los intervalos que tienen mas frecuencia (Que se repiten mas) son 1.7 millones a 2.6 millones de pecetas, y en si su economia basica del lugar por logica podemos determinar que su economia no esta tan mal pero tampoco es de las mejores."
   ]
  }
 ],
 "metadata": {
  "kernelspec": {
   "display_name": "Python 3 (ipykernel)",
   "language": "python",
   "name": "python3"
  },
  "language_info": {
   "codemirror_mode": {
    "name": "ipython",
    "version": 3
   },
   "file_extension": ".py",
   "mimetype": "text/x-python",
   "name": "python",
   "nbconvert_exporter": "python",
   "pygments_lexer": "ipython3",
   "version": "3.8.13"
  }
 },
 "nbformat": 4,
 "nbformat_minor": 5
}
